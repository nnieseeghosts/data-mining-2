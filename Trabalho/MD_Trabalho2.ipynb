{
  "nbformat": 4,
  "nbformat_minor": 0,
  "metadata": {
    "colab": {
      "provenance": []
    },
    "kernelspec": {
      "name": "python3",
      "display_name": "Python 3"
    },
    "language_info": {
      "name": "python"
    }
  },
  "cells": [
    {
      "cell_type": "markdown",
      "source": [
        "Imports, podem alterar conforme necessário"
      ],
      "metadata": {
        "id": "-3NCP28Fecl3"
      }
    },
    {
      "cell_type": "code",
      "execution_count": 3,
      "metadata": {
        "id": "xtM362CpeajU"
      },
      "outputs": [],
      "source": [
        "import seaborn as sns\n",
        "import pandas as pd\n",
        "import numpy as np"
      ]
    },
    {
      "cell_type": "markdown",
      "source": [
        "#### Lendo base de dados e removendo valores aleatoriamente **executar SEM ALTERAR**"
      ],
      "metadata": {
        "id": "LDTRz4oHejST"
      }
    },
    {
      "cell_type": "code",
      "source": [
        "#Carregando base de dados\n",
        "penguins = sns.load_dataset('penguins')\n",
        "\n",
        "np.random.seed(42)  #Definindo seed do random para replicabilidade\n",
        "\n",
        "#Removendo valores\n",
        "removidos = set()\n",
        "porcentagem = 0.30 #Porcentagem (0~1) das células a serem removidas\n",
        "qtdCelulas = len(penguins)*(len(penguins.columns)) #Quantidade de células na base de dados, ignorando a última coluna\n",
        "\n",
        "for i in range(int(np.ceil(porcentagem*qtdCelulas))):\n",
        "  linha = np.random.randint(0, len(penguins))\n",
        "  coluna = np.random.randint(0, len(penguins.columns))\n",
        "  while (linha, coluna) in removidos:\n",
        "    linha = np.random.randint(0, len(penguins))\n",
        "    coluna = np.random.randint(0, len(penguins.columns))\n",
        "\n",
        "  penguins.iloc[linha, coluna] = np.nan\n",
        "  removidos.add((linha,coluna))\n",
        "\n",
        "penguins.info()\n",
        "print(\"\\n\\nForam removidas \",str(len(removidos)), \"células das \",str(qtdCelulas))\n",
        "del removidos"
      ],
      "metadata": {
        "colab": {
          "base_uri": "https://localhost:8080/"
        },
        "id": "98F9PwSWeiN7",
        "outputId": "c01afe18-e50d-4e8f-c0b5-9aeb99bab417"
      },
      "execution_count": 7,
      "outputs": [
        {
          "output_type": "stream",
          "name": "stdout",
          "text": [
            "<class 'pandas.core.frame.DataFrame'>\n",
            "RangeIndex: 344 entries, 0 to 343\n",
            "Data columns (total 7 columns):\n",
            " #   Column             Non-Null Count  Dtype  \n",
            "---  ------             --------------  -----  \n",
            " 0   species            232 non-null    object \n",
            " 1   island             241 non-null    object \n",
            " 2   bill_length_mm     233 non-null    float64\n",
            " 3   bill_depth_mm      244 non-null    float64\n",
            " 4   flipper_length_mm  247 non-null    float64\n",
            " 5   body_mass_g        240 non-null    float64\n",
            " 6   sex                235 non-null    object \n",
            "dtypes: float64(4), object(3)\n",
            "memory usage: 18.9+ KB\n",
            "\n",
            "\n",
            "Foram removidas  723 células das  2408\n"
          ]
        }
      ]
    },
    {
      "cell_type": "markdown",
      "source": [
        "# **Podem modificar daqui para baixo para fazer a imputação de valores**"
      ],
      "metadata": {
        "id": "IqZit7FmgKFG"
      }
    }
  ]
}